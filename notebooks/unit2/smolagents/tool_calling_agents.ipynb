{
  "cells": [
    {
      "cell_type": "markdown",
      "metadata": {
        "id": "Pi9CF0391ARI"
      },
      "source": [
        "# Writing actions as code snippets or JSON blobs\n",
        "\n",
        "This notebook is part of the [Hugging Face Agents Course](https://www.hf.co/learn/agents-course), a free Course from beginner to expert, where you learn to build Agents.\n",
        "\n",
        "![Agents course share](https://huggingface.co/datasets/agents-course/course-images/resolve/main/en/communication/share.png)"
      ]
    },
    {
      "cell_type": "markdown",
      "metadata": {
        "id": "9gsYky7F1GzT"
      },
      "source": [
        "## Let's install the dependencies and login to our HF account to access the Inference API\n",
        "\n",
        "If you haven't installed `smolagents` yet, you can do so by running the following command:"
      ]
    },
    {
      "cell_type": "code",
      "execution_count": 11,
      "metadata": {
        "id": "MoFopncp0pnJ",
        "outputId": "60b99b1f-a816-493e-a3d9-bbdc9dc7e616",
        "colab": {
          "base_uri": "https://localhost:8080/",
          "height": 1000
        }
      },
      "outputs": [
        {
          "output_type": "stream",
          "name": "stdout",
          "text": [
            "Requirement already satisfied: python-dotenv==1.0.1 in /usr/local/lib/python3.11/dist-packages (1.0.1)\n",
            "Requirement already satisfied: google-auth in /usr/local/lib/python3.11/dist-packages (2.38.0)\n",
            "Requirement already satisfied: smolagents[litellm] in /usr/local/lib/python3.11/dist-packages (1.12.0)\n",
            "Requirement already satisfied: cachetools<6.0,>=2.0.0 in /usr/local/lib/python3.11/dist-packages (from google-auth) (5.5.2)\n",
            "Requirement already satisfied: pyasn1-modules>=0.2.1 in /usr/local/lib/python3.11/dist-packages (from google-auth) (0.4.1)\n",
            "Requirement already satisfied: rsa<5,>=3.1.4 in /usr/local/lib/python3.11/dist-packages (from google-auth) (4.9)\n",
            "Requirement already satisfied: huggingface-hub>=0.28.0 in /usr/local/lib/python3.11/dist-packages (from smolagents[litellm]) (0.29.3)\n",
            "Requirement already satisfied: requests>=2.32.3 in /usr/local/lib/python3.11/dist-packages (from smolagents[litellm]) (2.32.3)\n",
            "Requirement already satisfied: rich>=13.9.4 in /usr/local/lib/python3.11/dist-packages (from smolagents[litellm]) (13.9.4)\n",
            "Requirement already satisfied: pandas>=2.2.3 in /usr/local/lib/python3.11/dist-packages (from smolagents[litellm]) (2.2.3)\n",
            "Requirement already satisfied: jinja2>=3.1.4 in /usr/local/lib/python3.11/dist-packages (from smolagents[litellm]) (3.1.6)\n",
            "Collecting pillow>=11.0.0 (from smolagents[litellm])\n",
            "  Using cached pillow-11.1.0-cp311-cp311-manylinux_2_28_x86_64.whl.metadata (9.1 kB)\n",
            "Requirement already satisfied: markdownify>=0.14.1 in /usr/local/lib/python3.11/dist-packages (from smolagents[litellm]) (1.1.0)\n",
            "Requirement already satisfied: duckduckgo-search>=6.3.7 in /usr/local/lib/python3.11/dist-packages (from smolagents[litellm]) (7.5.2)\n",
            "Requirement already satisfied: python-dotenv in /usr/local/lib/python3.11/dist-packages (from smolagents[litellm]) (1.0.1)\n",
            "Requirement already satisfied: litellm>=1.60.2 in /usr/local/lib/python3.11/dist-packages (from smolagents[litellm]) (1.63.12)\n",
            "Requirement already satisfied: click>=8.1.8 in /usr/local/lib/python3.11/dist-packages (from duckduckgo-search>=6.3.7->smolagents[litellm]) (8.1.8)\n",
            "Requirement already satisfied: primp>=0.14.0 in /usr/local/lib/python3.11/dist-packages (from duckduckgo-search>=6.3.7->smolagents[litellm]) (0.14.0)\n",
            "Requirement already satisfied: lxml>=5.3.0 in /usr/local/lib/python3.11/dist-packages (from duckduckgo-search>=6.3.7->smolagents[litellm]) (5.3.1)\n",
            "Requirement already satisfied: filelock in /usr/local/lib/python3.11/dist-packages (from huggingface-hub>=0.28.0->smolagents[litellm]) (3.18.0)\n",
            "Requirement already satisfied: fsspec>=2023.5.0 in /usr/local/lib/python3.11/dist-packages (from huggingface-hub>=0.28.0->smolagents[litellm]) (2025.3.0)\n",
            "Requirement already satisfied: packaging>=20.9 in /usr/local/lib/python3.11/dist-packages (from huggingface-hub>=0.28.0->smolagents[litellm]) (24.2)\n",
            "Requirement already satisfied: pyyaml>=5.1 in /usr/local/lib/python3.11/dist-packages (from huggingface-hub>=0.28.0->smolagents[litellm]) (6.0.2)\n",
            "Requirement already satisfied: tqdm>=4.42.1 in /usr/local/lib/python3.11/dist-packages (from huggingface-hub>=0.28.0->smolagents[litellm]) (4.67.1)\n",
            "Requirement already satisfied: typing-extensions>=3.7.4.3 in /usr/local/lib/python3.11/dist-packages (from huggingface-hub>=0.28.0->smolagents[litellm]) (4.12.2)\n",
            "Requirement already satisfied: MarkupSafe>=2.0 in /usr/local/lib/python3.11/dist-packages (from jinja2>=3.1.4->smolagents[litellm]) (3.0.2)\n",
            "Requirement already satisfied: aiohttp in /usr/local/lib/python3.11/dist-packages (from litellm>=1.60.2->smolagents[litellm]) (3.11.14)\n",
            "Requirement already satisfied: httpx>=0.23.0 in /usr/local/lib/python3.11/dist-packages (from litellm>=1.60.2->smolagents[litellm]) (0.28.1)\n",
            "Requirement already satisfied: importlib-metadata>=6.8.0 in /usr/local/lib/python3.11/dist-packages (from litellm>=1.60.2->smolagents[litellm]) (8.6.1)\n",
            "Requirement already satisfied: jsonschema<5.0.0,>=4.22.0 in /usr/local/lib/python3.11/dist-packages (from litellm>=1.60.2->smolagents[litellm]) (4.23.0)\n",
            "Requirement already satisfied: openai>=1.66.1 in /usr/local/lib/python3.11/dist-packages (from litellm>=1.60.2->smolagents[litellm]) (1.66.3)\n",
            "Requirement already satisfied: pydantic<3.0.0,>=2.0.0 in /usr/local/lib/python3.11/dist-packages (from litellm>=1.60.2->smolagents[litellm]) (2.10.6)\n",
            "Requirement already satisfied: tiktoken>=0.7.0 in /usr/local/lib/python3.11/dist-packages (from litellm>=1.60.2->smolagents[litellm]) (0.9.0)\n",
            "Requirement already satisfied: tokenizers in /usr/local/lib/python3.11/dist-packages (from litellm>=1.60.2->smolagents[litellm]) (0.21.1)\n",
            "Requirement already satisfied: beautifulsoup4<5,>=4.9 in /usr/local/lib/python3.11/dist-packages (from markdownify>=0.14.1->smolagents[litellm]) (4.13.3)\n",
            "Requirement already satisfied: six<2,>=1.15 in /usr/local/lib/python3.11/dist-packages (from markdownify>=0.14.1->smolagents[litellm]) (1.17.0)\n",
            "Requirement already satisfied: numpy>=1.23.2 in /usr/local/lib/python3.11/dist-packages (from pandas>=2.2.3->smolagents[litellm]) (2.0.2)\n",
            "Requirement already satisfied: python-dateutil>=2.8.2 in /usr/local/lib/python3.11/dist-packages (from pandas>=2.2.3->smolagents[litellm]) (2.8.2)\n",
            "Requirement already satisfied: pytz>=2020.1 in /usr/local/lib/python3.11/dist-packages (from pandas>=2.2.3->smolagents[litellm]) (2025.1)\n",
            "Requirement already satisfied: tzdata>=2022.7 in /usr/local/lib/python3.11/dist-packages (from pandas>=2.2.3->smolagents[litellm]) (2025.1)\n",
            "Requirement already satisfied: pyasn1<0.7.0,>=0.4.6 in /usr/local/lib/python3.11/dist-packages (from pyasn1-modules>=0.2.1->google-auth) (0.6.1)\n",
            "Requirement already satisfied: charset-normalizer<4,>=2 in /usr/local/lib/python3.11/dist-packages (from requests>=2.32.3->smolagents[litellm]) (3.4.1)\n",
            "Requirement already satisfied: idna<4,>=2.5 in /usr/local/lib/python3.11/dist-packages (from requests>=2.32.3->smolagents[litellm]) (3.10)\n",
            "Requirement already satisfied: urllib3<3,>=1.21.1 in /usr/local/lib/python3.11/dist-packages (from requests>=2.32.3->smolagents[litellm]) (2.3.0)\n",
            "Requirement already satisfied: certifi>=2017.4.17 in /usr/local/lib/python3.11/dist-packages (from requests>=2.32.3->smolagents[litellm]) (2025.1.31)\n",
            "Requirement already satisfied: markdown-it-py>=2.2.0 in /usr/local/lib/python3.11/dist-packages (from rich>=13.9.4->smolagents[litellm]) (3.0.0)\n",
            "Requirement already satisfied: pygments<3.0.0,>=2.13.0 in /usr/local/lib/python3.11/dist-packages (from rich>=13.9.4->smolagents[litellm]) (2.18.0)\n",
            "Requirement already satisfied: soupsieve>1.2 in /usr/local/lib/python3.11/dist-packages (from beautifulsoup4<5,>=4.9->markdownify>=0.14.1->smolagents[litellm]) (2.6)\n",
            "Requirement already satisfied: anyio in /usr/local/lib/python3.11/dist-packages (from httpx>=0.23.0->litellm>=1.60.2->smolagents[litellm]) (4.9.0)\n",
            "Requirement already satisfied: httpcore==1.* in /usr/local/lib/python3.11/dist-packages (from httpx>=0.23.0->litellm>=1.60.2->smolagents[litellm]) (1.0.7)\n",
            "Requirement already satisfied: h11<0.15,>=0.13 in /usr/local/lib/python3.11/dist-packages (from httpcore==1.*->httpx>=0.23.0->litellm>=1.60.2->smolagents[litellm]) (0.14.0)\n",
            "Requirement already satisfied: zipp>=3.20 in /usr/local/lib/python3.11/dist-packages (from importlib-metadata>=6.8.0->litellm>=1.60.2->smolagents[litellm]) (3.21.0)\n",
            "Requirement already satisfied: attrs>=22.2.0 in /usr/local/lib/python3.11/dist-packages (from jsonschema<5.0.0,>=4.22.0->litellm>=1.60.2->smolagents[litellm]) (25.3.0)\n",
            "Requirement already satisfied: jsonschema-specifications>=2023.03.6 in /usr/local/lib/python3.11/dist-packages (from jsonschema<5.0.0,>=4.22.0->litellm>=1.60.2->smolagents[litellm]) (2024.10.1)\n",
            "Requirement already satisfied: referencing>=0.28.4 in /usr/local/lib/python3.11/dist-packages (from jsonschema<5.0.0,>=4.22.0->litellm>=1.60.2->smolagents[litellm]) (0.36.2)\n",
            "Requirement already satisfied: rpds-py>=0.7.1 in /usr/local/lib/python3.11/dist-packages (from jsonschema<5.0.0,>=4.22.0->litellm>=1.60.2->smolagents[litellm]) (0.23.1)\n",
            "Requirement already satisfied: mdurl~=0.1 in /usr/local/lib/python3.11/dist-packages (from markdown-it-py>=2.2.0->rich>=13.9.4->smolagents[litellm]) (0.1.2)\n",
            "Requirement already satisfied: distro<2,>=1.7.0 in /usr/local/lib/python3.11/dist-packages (from openai>=1.66.1->litellm>=1.60.2->smolagents[litellm]) (1.9.0)\n",
            "Requirement already satisfied: jiter<1,>=0.4.0 in /usr/local/lib/python3.11/dist-packages (from openai>=1.66.1->litellm>=1.60.2->smolagents[litellm]) (0.9.0)\n",
            "Requirement already satisfied: sniffio in /usr/local/lib/python3.11/dist-packages (from openai>=1.66.1->litellm>=1.60.2->smolagents[litellm]) (1.3.1)\n",
            "Requirement already satisfied: annotated-types>=0.6.0 in /usr/local/lib/python3.11/dist-packages (from pydantic<3.0.0,>=2.0.0->litellm>=1.60.2->smolagents[litellm]) (0.7.0)\n",
            "Requirement already satisfied: pydantic-core==2.27.2 in /usr/local/lib/python3.11/dist-packages (from pydantic<3.0.0,>=2.0.0->litellm>=1.60.2->smolagents[litellm]) (2.27.2)\n",
            "Requirement already satisfied: regex>=2022.1.18 in /usr/local/lib/python3.11/dist-packages (from tiktoken>=0.7.0->litellm>=1.60.2->smolagents[litellm]) (2024.11.6)\n",
            "Requirement already satisfied: aiohappyeyeballs>=2.3.0 in /usr/local/lib/python3.11/dist-packages (from aiohttp->litellm>=1.60.2->smolagents[litellm]) (2.6.1)\n",
            "Requirement already satisfied: aiosignal>=1.1.2 in /usr/local/lib/python3.11/dist-packages (from aiohttp->litellm>=1.60.2->smolagents[litellm]) (1.3.2)\n",
            "Requirement already satisfied: frozenlist>=1.1.1 in /usr/local/lib/python3.11/dist-packages (from aiohttp->litellm>=1.60.2->smolagents[litellm]) (1.5.0)\n",
            "Requirement already satisfied: multidict<7.0,>=4.5 in /usr/local/lib/python3.11/dist-packages (from aiohttp->litellm>=1.60.2->smolagents[litellm]) (6.2.0)\n",
            "Requirement already satisfied: propcache>=0.2.0 in /usr/local/lib/python3.11/dist-packages (from aiohttp->litellm>=1.60.2->smolagents[litellm]) (0.3.0)\n",
            "Requirement already satisfied: yarl<2.0,>=1.17.0 in /usr/local/lib/python3.11/dist-packages (from aiohttp->litellm>=1.60.2->smolagents[litellm]) (1.18.3)\n",
            "Using cached pillow-11.1.0-cp311-cp311-manylinux_2_28_x86_64.whl (4.5 MB)\n",
            "Installing collected packages: pillow\n",
            "  Attempting uninstall: pillow\n",
            "    Found existing installation: pillow 10.4.0\n",
            "    Uninstalling pillow-10.4.0:\n",
            "      Successfully uninstalled pillow-10.4.0\n",
            "\u001b[31mERROR: pip's dependency resolver does not currently take into account all the packages that are installed. This behaviour is the source of the following dependency conflicts.\n",
            "llama-index-llms-gemini 0.4.11 requires pillow<11.0.0,>=10.2.0, but you have pillow 11.1.0 which is incompatible.\u001b[0m\u001b[31m\n",
            "\u001b[0mSuccessfully installed pillow-11.1.0\n"
          ]
        },
        {
          "output_type": "display_data",
          "data": {
            "application/vnd.colab-display-data+json": {
              "pip_warning": {
                "packages": [
                  "PIL"
                ]
              },
              "id": "091f1de08689447cafc523256b74e240"
            }
          },
          "metadata": {}
        },
        {
          "output_type": "stream",
          "name": "stdout",
          "text": [
            "Requirement already satisfied: llama-index-tools-google in /usr/local/lib/python3.11/dist-packages (0.3.0)\n",
            "Requirement already satisfied: llama-index-llms-gemini in /usr/local/lib/python3.11/dist-packages (0.4.11)\n",
            "Requirement already satisfied: llama-index-embeddings-gemini in /usr/local/lib/python3.11/dist-packages (0.3.1)\n",
            "Requirement already satisfied: beautifulsoup4<5.0.0,>=4.12.3 in /usr/local/lib/python3.11/dist-packages (from llama-index-tools-google) (4.13.3)\n",
            "Requirement already satisfied: google-api-python-client<3.0.0,>=2.115.0 in /usr/local/lib/python3.11/dist-packages (from llama-index-tools-google) (2.164.0)\n",
            "Requirement already satisfied: google-auth-httplib2<0.3.0,>=0.2.0 in /usr/local/lib/python3.11/dist-packages (from llama-index-tools-google) (0.2.0)\n",
            "Requirement already satisfied: google-auth-oauthlib<2.0.0,>=1.2.0 in /usr/local/lib/python3.11/dist-packages (from llama-index-tools-google) (1.2.1)\n",
            "Requirement already satisfied: llama-index-core<0.13.0,>=0.12.0 in /usr/local/lib/python3.11/dist-packages (from llama-index-tools-google) (0.12.25)\n",
            "Requirement already satisfied: google-generativeai>=0.5.2 in /usr/local/lib/python3.11/dist-packages (from llama-index-llms-gemini) (0.8.4)\n",
            "\u001b[31mERROR: Operation cancelled by user\u001b[0m\u001b[31m\n",
            "\u001b[0m^C\n"
          ]
        }
      ],
      "source": [
        "!pip install python-dotenv==1.0.1 # to make use of .env file\n",
        "!pip install google-auth smolagents[litellm] # for smolagents\n",
        "!pip install llama-index-tools-google llama-index-llms-gemini llama-index-embeddings-gemini # for llama-index"
      ]
    },
    {
      "cell_type": "markdown",
      "metadata": {
        "id": "cH-4W1GhYL4T"
      },
      "source": [
        "Let's also login to the Hugging Face Hub to have access to the Inference API."
      ]
    },
    {
      "cell_type": "code",
      "execution_count": 4,
      "metadata": {
        "id": "TFTc-ry70y1f",
        "outputId": "57fe0276-62d0-4d2f-e63f-1cd31a5b292f",
        "colab": {
          "base_uri": "https://localhost:8080/",
          "height": 303,
          "referenced_widgets": [
            "bd50426f3855480f8c7f6242a0328b9c",
            "f6e606ae40524a76b6a09fa97faf464a",
            "a016c4e86bfa4840a44d34a252f12ec3",
            "4f63c02424b041fcbc7fae55ecb155c4",
            "2f105b3c2f25412c93359f62624a1f5c",
            "2717fd45bb54428490a5b8f26b170604",
            "b606a943cbf548ec81c12fc70ef0f496",
            "ae72e736f70b43e48fac6b6b12a02ac4",
            "c7efe8efce7a4aa19829341f49eb0be5",
            "05be179d036e422ab71b8050f43cb0d5",
            "2818a84d92c04896adfaedbc708b5c30",
            "66b5d892583a42dea155fa7174d56d4f",
            "2cc9cae8902b40eeb9455a97228a30b7",
            "a7fd583383d946f19f7767823284fcdf",
            "404d27e8c2134ee197af4b3b55004626",
            "6e70b5aa9a584147ad3c0af3d8bd151c",
            "32c8626481364fdd955328cf9e7ddddc"
          ]
        }
      },
      "outputs": [
        {
          "output_type": "display_data",
          "data": {
            "text/plain": [
              "VBox(children=(HTML(value='<center> <img\\nsrc=https://huggingface.co/front/assets/huggingface_logo-noborder.sv…"
            ],
            "application/vnd.jupyter.widget-view+json": {
              "version_major": 2,
              "version_minor": 0,
              "model_id": "bd50426f3855480f8c7f6242a0328b9c"
            }
          },
          "metadata": {}
        }
      ],
      "source": [
        "from huggingface_hub import notebook_login\n",
        "\n",
        "notebook_login()"
      ]
    },
    {
      "cell_type": "markdown",
      "metadata": {
        "id": "ekKxaZrd1HlB"
      },
      "source": [
        "## Selecting a Playlist for the Party Using `smolagents` and a `ToolCallingAgent`\n",
        "\n",
        "Let's revisit the previous example where Alfred started party preparations, but this time we'll use a `ToolCallingAgent` to highlight the difference. We'll build an agent that can search the web using DuckDuckGo, just like in our Code Agent example. The only difference is the agent type - the framework handles everything else:"
      ]
    },
    {
      "cell_type": "code",
      "execution_count": 7,
      "metadata": {
        "colab": {
          "base_uri": "https://localhost:8080/",
          "height": 1000
        },
        "id": "6IInDOUN01sP",
        "outputId": "b53c8ea0-9e03-4485-cfd4-964d3db30860"
      },
      "outputs": [
        {
          "output_type": "display_data",
          "data": {
            "text/plain": [
              "\u001b[38;2;212;183;2m╭─\u001b[0m\u001b[38;2;212;183;2m───────────────────────────────────────────────────\u001b[0m\u001b[38;2;212;183;2m \u001b[0m\u001b[1;38;2;212;183;2mNew run\u001b[0m\u001b[38;2;212;183;2m \u001b[0m\u001b[38;2;212;183;2m───────────────────────────────────────────────────\u001b[0m\u001b[38;2;212;183;2m─╮\u001b[0m\n",
              "\u001b[38;2;212;183;2m│\u001b[0m                                                                                                                 \u001b[38;2;212;183;2m│\u001b[0m\n",
              "\u001b[38;2;212;183;2m│\u001b[0m \u001b[1mSearch for the best music recommendations for a party at the Wayne's mansion.\u001b[0m                                   \u001b[38;2;212;183;2m│\u001b[0m\n",
              "\u001b[38;2;212;183;2m│\u001b[0m                                                                                                                 \u001b[38;2;212;183;2m│\u001b[0m\n",
              "\u001b[38;2;212;183;2m╰─\u001b[0m\u001b[38;2;212;183;2m LiteLLMModel - gemini/gemini-2.0-flash \u001b[0m\u001b[38;2;212;183;2m───────────────────────────────────────────────────────────────────────\u001b[0m\u001b[38;2;212;183;2m─╯\u001b[0m\n"
            ],
            "text/html": [
              "<pre style=\"white-space:pre;overflow-x:auto;line-height:normal;font-family:Menlo,'DejaVu Sans Mono',consolas,'Courier New',monospace\"><span style=\"color: #d4b702; text-decoration-color: #d4b702\">╭──────────────────────────────────────────────────── </span><span style=\"color: #d4b702; text-decoration-color: #d4b702; font-weight: bold\">New run</span><span style=\"color: #d4b702; text-decoration-color: #d4b702\"> ────────────────────────────────────────────────────╮</span>\n",
              "<span style=\"color: #d4b702; text-decoration-color: #d4b702\">│</span>                                                                                                                 <span style=\"color: #d4b702; text-decoration-color: #d4b702\">│</span>\n",
              "<span style=\"color: #d4b702; text-decoration-color: #d4b702\">│</span> <span style=\"font-weight: bold\">Search for the best music recommendations for a party at the Wayne's mansion.</span>                                   <span style=\"color: #d4b702; text-decoration-color: #d4b702\">│</span>\n",
              "<span style=\"color: #d4b702; text-decoration-color: #d4b702\">│</span>                                                                                                                 <span style=\"color: #d4b702; text-decoration-color: #d4b702\">│</span>\n",
              "<span style=\"color: #d4b702; text-decoration-color: #d4b702\">╰─ LiteLLMModel - gemini/gemini-2.0-flash ────────────────────────────────────────────────────────────────────────╯</span>\n",
              "</pre>\n"
            ]
          },
          "metadata": {}
        },
        {
          "output_type": "display_data",
          "data": {
            "text/plain": [
              "\u001b[38;2;212;183;2m━━━━━━━━━━━━━━━━━━━━━━━━━━━━━━━━━━━━━━━━━━━━━━━━━━━━━ \u001b[0m\u001b[1mStep \u001b[0m\u001b[1;36m1\u001b[0m\u001b[38;2;212;183;2m ━━━━━━━━━━━━━━━━━━━━━━━━━━━━━━━━━━━━━━━━━━━━━━━━━━━━━━\u001b[0m\n"
            ],
            "text/html": [
              "<pre style=\"white-space:pre;overflow-x:auto;line-height:normal;font-family:Menlo,'DejaVu Sans Mono',consolas,'Courier New',monospace\"><span style=\"color: #d4b702; text-decoration-color: #d4b702\">━━━━━━━━━━━━━━━━━━━━━━━━━━━━━━━━━━━━━━━━━━━━━━━━━━━━━ </span><span style=\"font-weight: bold\">Step </span><span style=\"color: #008080; text-decoration-color: #008080; font-weight: bold\">1</span><span style=\"color: #d4b702; text-decoration-color: #d4b702\"> ━━━━━━━━━━━━━━━━━━━━━━━━━━━━━━━━━━━━━━━━━━━━━━━━━━━━━━</span>\n",
              "</pre>\n"
            ]
          },
          "metadata": {}
        },
        {
          "output_type": "display_data",
          "data": {
            "text/plain": [
              "╭─────────────────────────────────────────────────────────────────────────────────────────────────────────────────╮\n",
              "│ Calling tool: 'web_search' with arguments: {'query': 'best music for a party at a mansion'}                     │\n",
              "╰─────────────────────────────────────────────────────────────────────────────────────────────────────────────────╯\n"
            ],
            "text/html": [
              "<pre style=\"white-space:pre;overflow-x:auto;line-height:normal;font-family:Menlo,'DejaVu Sans Mono',consolas,'Courier New',monospace\">╭─────────────────────────────────────────────────────────────────────────────────────────────────────────────────╮\n",
              "│ Calling tool: 'web_search' with arguments: {'query': 'best music for a party at a mansion'}                     │\n",
              "╰─────────────────────────────────────────────────────────────────────────────────────────────────────────────────╯\n",
              "</pre>\n"
            ]
          },
          "metadata": {}
        },
        {
          "output_type": "display_data",
          "data": {
            "text/plain": [
              "Observations: ## Search Results\n",
              "\n",
              "|The \u001b[1;36m75\u001b[0m Best Party Songs That Will Get Everyone Dancing - \n",
              "Gear4music\u001b[1m]\u001b[0m\u001b[1m(\u001b[0m\u001b[4;94mhttps://www.gear4music.com/blog/best-party-songs/\u001b[0m\u001b[4;94m)\u001b[0m\n",
              "\u001b[1;36m49\u001b[0m. \u001b[32m\"Jump Around\"\u001b[0m - House of Pain \u001b[1m(\u001b[0m\u001b[1;36m1992\u001b[0m\u001b[1m)\u001b[0m \u001b[1;36m50\u001b[0m. \u001b[32m\"Dance Monkey\"\u001b[0m - Tones and I \u001b[1m(\u001b[0m\u001b[1;36m2019\u001b[0m\u001b[1m)\u001b[0m \u001b[1;36m51\u001b[0m. \u001b[32m\"Moves Like Jagger\"\u001b[0m - Maroon \u001b[1;36m5\u001b[0m\n",
              "ft. Christina Aguilera \u001b[1m(\u001b[0m\u001b[1;36m2011\u001b[0m\u001b[1m)\u001b[0m \u001b[33m...\u001b[0m to keep things simple, we've compiled the best party songs of all time, from \n",
              "timeless classics to contemporary hits, giving you a diverse, family-friendly playlist that \u001b[33m...\u001b[0m\n",
              "\n",
              "|\u001b[1;36m200\u001b[0m Classic House Party Songs Everyone Knows | The Best \u001b[33m...\u001b[0m - \n",
              "iSpyTunes\u001b[1m]\u001b[0m\u001b[1m(\u001b[0m\u001b[4;94mhttps://www.ispytunes.com/post/house-party-songs\u001b[0m\u001b[4;94m)\u001b[0m\n",
              "\" Branded merchandise adds flair to any occasion, just like the perfect playlist. \u001b[1;36m200\u001b[0m classic house party songs \n",
              "everyone knows set the mood, bringing energy to every celebration. The best popular party hits keep guests dancing,\n",
              "creating unforgettable moments. From throwback anthems to modern beats, a great selection ensures nonstop fun.\n",
              "\n",
              "|Top \u001b[1;36m200\u001b[0m Most Requested Songs - DJ Event Planner\u001b[1m]\u001b[0m\u001b[1m(\u001b[0m\u001b[4;94mhttps://djeventplanner.com/mostrequested.htm\u001b[0m\u001b[4;94m)\u001b[0m\n",
              "House Of Pain: Jump Around: \u001b[1;36m88\u001b[0m: Beatles: Twist And Shout: \u001b[1;36m89\u001b[0m: Taylor Swift: Lover: \u001b[1;36m90\u001b[0m: Justin Timberlake: Can't \n",
              "Stop The Feeling! \u001b[1;36m91\u001b[0m: Wild Cherry: Play That Funky Music: \u001b[1;36m92\u001b[0m: Beyonce: Love On Top: \u001b[1;36m93\u001b[0m: Big & Rich: Save A Horse \n",
              "\u001b[1m(\u001b[0mRide A Cowboy\u001b[1m)\u001b[0m \u001b[1;36m94\u001b[0m: Taylor Swift: You Belong With Me: \u001b[1;36m95\u001b[0m: Cardi B, Bad Bunny and J Balvin: I Like It: \u001b[1;36m96\u001b[0m: Rihanna: \n",
              "Don't \u001b[33m...\u001b[0m\n",
              "\n",
              "|Top \u001b[1;36m50\u001b[0m Dance Floor Bangers Of All Time - DJ Floh Back \n",
              "Productions\u001b[1m]\u001b[0m\u001b[1m(\u001b[0m\u001b[4;94mhttps://flohback.com/top-50-dance-floor-bangers-of-all-time/\u001b[0m\u001b[4;94m)\u001b[0m\n",
              "It's one of the few songs I know all the lyrics too, I'm still getting ripped from my family for jumping on stage \n",
              "and belting this out at my cousins wedding,\u001b[32m\" says Danny. 39. Party Rock Anthem - LMFAO Feat. Lauren Bennett & \u001b[0m\n",
              "\u001b[32mGoonRock: \"\u001b[0mSince I started DJing, I always play this song every event with an overwhelmingly positive response \u001b[33m...\u001b[0m\n",
              "\n",
              "|\u001b[1;36m100\u001b[0m Best Party Songs: The Ultimate Party Playlist\u001b[1m]\u001b[0m\u001b[1m(\u001b[0m\u001b[4;94mhttps://audiocaptain.com/best-party-songs/\u001b[0m\u001b[4;94m)\u001b[0m\n",
              "Best Party Songs \u001b[1;36m2024\u001b[0m. The Coronavirus will forever shroud this portion of music history. Music was still being \n",
              "released, but due to COVID restrictions, clubs were closed, house parties banned, and raves monitored.\n",
              "\n",
              "|Best Party Songs - House Party Music Playlist \u001b[1m(\u001b[0mUpdated in \n",
              "\u001b[1;36m2025\u001b[0m\u001b[1m)\u001b[0m\u001b[1m]\u001b[0m\u001b[1m(\u001b[0m\u001b[4;94mhttps://music.youtube.com/playlist?\u001b[0m\u001b[4;94mlist\u001b[0m\u001b[4;94m=\u001b[0m\u001b[4;94mPLo3pNg0eiPc\u001b[0m\u001b[4;94m-3MC9VFxy9Kt6eau9ZJTPt\u001b[0m\u001b[4;94m)\u001b[0m\n",
              "In the next year, the playlist is going to be titled: Best Party Songs - House Party Music Playlist \u001b[1m(\u001b[0mUpdated in \n",
              "\u001b[1;36m2026\u001b[0m\u001b[1m)\u001b[0m Last year, the playlist was titled: Best Party Songs - House Party Music Playlist \u001b[1m(\u001b[0mUpdated in \u001b[1;36m2024\u001b[0m\u001b[1m)\u001b[0m Share \n",
              "your thoughts on our playlist: contact@red-music.com\n",
              "\n",
              "|\u001b[1;36m51\u001b[0m Best Party Songs Released in \u001b[1;36m2024\u001b[0m\u001b[1m]\u001b[0m\u001b[1m(\u001b[0m\u001b[4;94mhttps://weddingmusicletter.com/p/best-party-songs-2024\u001b[0m\u001b[4;94m)\u001b[0m\n",
              "With inspiration from Billboard charts, Spotify trends, Apple Music's most played, and more, I've curated a \n",
              "definitive list of the best party songs of \u001b[1;36m2024\u001b[0m. Whether you're planning a wedding, throwing a house party, or just\n",
              "updating your personal playlist, these tracks are sure to keep the energy high and the vibes unstoppable.\n",
              "\n",
              "|The \u001b[1;36m55\u001b[0m+ Best Songs About Partying, For Your Next Party Anthem - \n",
              "Ranker\u001b[1m]\u001b[0m\u001b[1m(\u001b[0m\u001b[4;94mhttps://www.ranker.com/list/the-best-songs-about-parties/ranker-music\u001b[0m\u001b[4;94m)\u001b[0m\n",
              "Over 2K music fans have voted on the \u001b[1;36m55\u001b[0m+ Best Songs About Partying, For Your Next Party Anthem. Current Top \u001b[1;36m3\u001b[0m: Get \n",
              "This Party Started, Celebration, \u001b[1;36m1999\u001b[0m \u001b[33m...\u001b[0m vote on everything. Watchworthy. \u001b[33m...\u001b[0m There's a Party at My House. Randy \n",
              "Newman. View on AMAZON. \u001b[1;36m39\u001b[0m. \u001b[1;36m31\u001b[0m votes. \u001b[1;36m24\u001b[0m Hours \u001b[35m/\u001b[0m Take Me Back to the Party. Tom Jones. View on AMAZON. \u001b[1;36m40\u001b[0m. \u001b[1;36m29\u001b[0m \n",
              "votes.\n",
              "\n",
              "|The \u001b[1;36m101\u001b[0m Best Party Songs Of All Time - Music Grotto\u001b[1m]\u001b[0m\u001b[1m(\u001b[0m\u001b[4;94mhttps://www.musicgrotto.com/best-party-songs/\u001b[0m\u001b[4;94m)\u001b[0m\n",
              "A pounding beat and dramatic vocals make this song one of the best party songs to come out of Europe, and the \n",
              "song's music video features a strange and compelling premise of a dead man being reanimated and falling in love \n",
              "with a woman. Tjis Verwest, \u001b[1m(\u001b[0ma.k.a. Tiësto\u001b[1m)\u001b[0m composed the song with help from James Bell, Julia Karlsson, and Anton \n",
              "Rundberg.\n",
              "\n",
              "|Hypnotic Downtempo House Mix at a New York Mansion Party \u001b[33m...\u001b[0m - YouTube\u001b[1m]\u001b[0m\u001b[1m(\u001b[0m\u001b[4;94mhttps://m.youtube.com/watch?\u001b[0m\u001b[4;94mv\u001b[0m\u001b[4;94m=\u001b[0m\u001b[4;94mow1ehp2slcQ\u001b[0m\u001b[4;94m)\u001b[0m\n",
              "Book Club Meeting #\u001b[1;36m18\u001b[0m: \u001b[32m\"SHAUNIE\"\u001b[0m plays a mix of global house and dark Detroit house music for our murder \n",
              "mystery-themed party at a mansion in New York City. \u001b[33m...\u001b[0m\n"
            ],
            "text/html": [
              "<pre style=\"white-space:pre;overflow-x:auto;line-height:normal;font-family:Menlo,'DejaVu Sans Mono',consolas,'Courier New',monospace\">Observations: ## Search Results\n",
              "\n",
              "|The <span style=\"color: #008080; text-decoration-color: #008080; font-weight: bold\">75</span> Best Party Songs That Will Get Everyone Dancing - \n",
              "Gear4music<span style=\"font-weight: bold\">](</span><span style=\"color: #0000ff; text-decoration-color: #0000ff; text-decoration: underline\">https://www.gear4music.com/blog/best-party-songs/)</span>\n",
              "<span style=\"color: #008080; text-decoration-color: #008080; font-weight: bold\">49</span>. <span style=\"color: #008000; text-decoration-color: #008000\">\"Jump Around\"</span> - House of Pain <span style=\"font-weight: bold\">(</span><span style=\"color: #008080; text-decoration-color: #008080; font-weight: bold\">1992</span><span style=\"font-weight: bold\">)</span> <span style=\"color: #008080; text-decoration-color: #008080; font-weight: bold\">50</span>. <span style=\"color: #008000; text-decoration-color: #008000\">\"Dance Monkey\"</span> - Tones and I <span style=\"font-weight: bold\">(</span><span style=\"color: #008080; text-decoration-color: #008080; font-weight: bold\">2019</span><span style=\"font-weight: bold\">)</span> <span style=\"color: #008080; text-decoration-color: #008080; font-weight: bold\">51</span>. <span style=\"color: #008000; text-decoration-color: #008000\">\"Moves Like Jagger\"</span> - Maroon <span style=\"color: #008080; text-decoration-color: #008080; font-weight: bold\">5</span>\n",
              "ft. Christina Aguilera <span style=\"font-weight: bold\">(</span><span style=\"color: #008080; text-decoration-color: #008080; font-weight: bold\">2011</span><span style=\"font-weight: bold\">)</span> <span style=\"color: #808000; text-decoration-color: #808000\">...</span> to keep things simple, we've compiled the best party songs of all time, from \n",
              "timeless classics to contemporary hits, giving you a diverse, family-friendly playlist that <span style=\"color: #808000; text-decoration-color: #808000\">...</span>\n",
              "\n",
              "|<span style=\"color: #008080; text-decoration-color: #008080; font-weight: bold\">200</span> Classic House Party Songs Everyone Knows | The Best <span style=\"color: #808000; text-decoration-color: #808000\">...</span> - \n",
              "iSpyTunes<span style=\"font-weight: bold\">](</span><span style=\"color: #0000ff; text-decoration-color: #0000ff; text-decoration: underline\">https://www.ispytunes.com/post/house-party-songs)</span>\n",
              "\" Branded merchandise adds flair to any occasion, just like the perfect playlist. <span style=\"color: #008080; text-decoration-color: #008080; font-weight: bold\">200</span> classic house party songs \n",
              "everyone knows set the mood, bringing energy to every celebration. The best popular party hits keep guests dancing,\n",
              "creating unforgettable moments. From throwback anthems to modern beats, a great selection ensures nonstop fun.\n",
              "\n",
              "|Top <span style=\"color: #008080; text-decoration-color: #008080; font-weight: bold\">200</span> Most Requested Songs - DJ Event Planner<span style=\"font-weight: bold\">](</span><span style=\"color: #0000ff; text-decoration-color: #0000ff; text-decoration: underline\">https://djeventplanner.com/mostrequested.htm)</span>\n",
              "House Of Pain: Jump Around: <span style=\"color: #008080; text-decoration-color: #008080; font-weight: bold\">88</span>: Beatles: Twist And Shout: <span style=\"color: #008080; text-decoration-color: #008080; font-weight: bold\">89</span>: Taylor Swift: Lover: <span style=\"color: #008080; text-decoration-color: #008080; font-weight: bold\">90</span>: Justin Timberlake: Can't \n",
              "Stop The Feeling! <span style=\"color: #008080; text-decoration-color: #008080; font-weight: bold\">91</span>: Wild Cherry: Play That Funky Music: <span style=\"color: #008080; text-decoration-color: #008080; font-weight: bold\">92</span>: Beyonce: Love On Top: <span style=\"color: #008080; text-decoration-color: #008080; font-weight: bold\">93</span>: Big &amp; Rich: Save A Horse \n",
              "<span style=\"font-weight: bold\">(</span>Ride A Cowboy<span style=\"font-weight: bold\">)</span> <span style=\"color: #008080; text-decoration-color: #008080; font-weight: bold\">94</span>: Taylor Swift: You Belong With Me: <span style=\"color: #008080; text-decoration-color: #008080; font-weight: bold\">95</span>: Cardi B, Bad Bunny and J Balvin: I Like It: <span style=\"color: #008080; text-decoration-color: #008080; font-weight: bold\">96</span>: Rihanna: \n",
              "Don't <span style=\"color: #808000; text-decoration-color: #808000\">...</span>\n",
              "\n",
              "|Top <span style=\"color: #008080; text-decoration-color: #008080; font-weight: bold\">50</span> Dance Floor Bangers Of All Time - DJ Floh Back \n",
              "Productions<span style=\"font-weight: bold\">](</span><span style=\"color: #0000ff; text-decoration-color: #0000ff; text-decoration: underline\">https://flohback.com/top-50-dance-floor-bangers-of-all-time/)</span>\n",
              "It's one of the few songs I know all the lyrics too, I'm still getting ripped from my family for jumping on stage \n",
              "and belting this out at my cousins wedding,<span style=\"color: #008000; text-decoration-color: #008000\">\" says Danny. 39. Party Rock Anthem - LMFAO Feat. Lauren Bennett &amp; </span>\n",
              "<span style=\"color: #008000; text-decoration-color: #008000\">GoonRock: \"</span>Since I started DJing, I always play this song every event with an overwhelmingly positive response <span style=\"color: #808000; text-decoration-color: #808000\">...</span>\n",
              "\n",
              "|<span style=\"color: #008080; text-decoration-color: #008080; font-weight: bold\">100</span> Best Party Songs: The Ultimate Party Playlist<span style=\"font-weight: bold\">](</span><span style=\"color: #0000ff; text-decoration-color: #0000ff; text-decoration: underline\">https://audiocaptain.com/best-party-songs/)</span>\n",
              "Best Party Songs <span style=\"color: #008080; text-decoration-color: #008080; font-weight: bold\">2024</span>. The Coronavirus will forever shroud this portion of music history. Music was still being \n",
              "released, but due to COVID restrictions, clubs were closed, house parties banned, and raves monitored.\n",
              "\n",
              "|Best Party Songs - House Party Music Playlist <span style=\"font-weight: bold\">(</span>Updated in \n",
              "<span style=\"color: #008080; text-decoration-color: #008080; font-weight: bold\">2025</span><span style=\"font-weight: bold\">)](</span><span style=\"color: #0000ff; text-decoration-color: #0000ff; text-decoration: underline\">https://music.youtube.com/playlist?list=PLo3pNg0eiPc-3MC9VFxy9Kt6eau9ZJTPt)</span>\n",
              "In the next year, the playlist is going to be titled: Best Party Songs - House Party Music Playlist <span style=\"font-weight: bold\">(</span>Updated in \n",
              "<span style=\"color: #008080; text-decoration-color: #008080; font-weight: bold\">2026</span><span style=\"font-weight: bold\">)</span> Last year, the playlist was titled: Best Party Songs - House Party Music Playlist <span style=\"font-weight: bold\">(</span>Updated in <span style=\"color: #008080; text-decoration-color: #008080; font-weight: bold\">2024</span><span style=\"font-weight: bold\">)</span> Share \n",
              "your thoughts on our playlist: contact@red-music.com\n",
              "\n",
              "|<span style=\"color: #008080; text-decoration-color: #008080; font-weight: bold\">51</span> Best Party Songs Released in <span style=\"color: #008080; text-decoration-color: #008080; font-weight: bold\">2024</span><span style=\"font-weight: bold\">](</span><span style=\"color: #0000ff; text-decoration-color: #0000ff; text-decoration: underline\">https://weddingmusicletter.com/p/best-party-songs-2024)</span>\n",
              "With inspiration from Billboard charts, Spotify trends, Apple Music's most played, and more, I've curated a \n",
              "definitive list of the best party songs of <span style=\"color: #008080; text-decoration-color: #008080; font-weight: bold\">2024</span>. Whether you're planning a wedding, throwing a house party, or just\n",
              "updating your personal playlist, these tracks are sure to keep the energy high and the vibes unstoppable.\n",
              "\n",
              "|The <span style=\"color: #008080; text-decoration-color: #008080; font-weight: bold\">55</span>+ Best Songs About Partying, For Your Next Party Anthem - \n",
              "Ranker<span style=\"font-weight: bold\">](</span><span style=\"color: #0000ff; text-decoration-color: #0000ff; text-decoration: underline\">https://www.ranker.com/list/the-best-songs-about-parties/ranker-music)</span>\n",
              "Over 2K music fans have voted on the <span style=\"color: #008080; text-decoration-color: #008080; font-weight: bold\">55</span>+ Best Songs About Partying, For Your Next Party Anthem. Current Top <span style=\"color: #008080; text-decoration-color: #008080; font-weight: bold\">3</span>: Get \n",
              "This Party Started, Celebration, <span style=\"color: #008080; text-decoration-color: #008080; font-weight: bold\">1999</span> <span style=\"color: #808000; text-decoration-color: #808000\">...</span> vote on everything. Watchworthy. <span style=\"color: #808000; text-decoration-color: #808000\">...</span> There's a Party at My House. Randy \n",
              "Newman. View on AMAZON. <span style=\"color: #008080; text-decoration-color: #008080; font-weight: bold\">39</span>. <span style=\"color: #008080; text-decoration-color: #008080; font-weight: bold\">31</span> votes. <span style=\"color: #008080; text-decoration-color: #008080; font-weight: bold\">24</span> Hours <span style=\"color: #800080; text-decoration-color: #800080\">/</span> Take Me Back to the Party. Tom Jones. View on AMAZON. <span style=\"color: #008080; text-decoration-color: #008080; font-weight: bold\">40</span>. <span style=\"color: #008080; text-decoration-color: #008080; font-weight: bold\">29</span> \n",
              "votes.\n",
              "\n",
              "|The <span style=\"color: #008080; text-decoration-color: #008080; font-weight: bold\">101</span> Best Party Songs Of All Time - Music Grotto<span style=\"font-weight: bold\">](</span><span style=\"color: #0000ff; text-decoration-color: #0000ff; text-decoration: underline\">https://www.musicgrotto.com/best-party-songs/)</span>\n",
              "A pounding beat and dramatic vocals make this song one of the best party songs to come out of Europe, and the \n",
              "song's music video features a strange and compelling premise of a dead man being reanimated and falling in love \n",
              "with a woman. Tjis Verwest, <span style=\"font-weight: bold\">(</span>a.k.a. Tiësto<span style=\"font-weight: bold\">)</span> composed the song with help from James Bell, Julia Karlsson, and Anton \n",
              "Rundberg.\n",
              "\n",
              "|Hypnotic Downtempo House Mix at a New York Mansion Party <span style=\"color: #808000; text-decoration-color: #808000\">...</span> - YouTube<span style=\"font-weight: bold\">](</span><span style=\"color: #0000ff; text-decoration-color: #0000ff; text-decoration: underline\">https://m.youtube.com/watch?v=ow1ehp2slcQ)</span>\n",
              "Book Club Meeting #<span style=\"color: #008080; text-decoration-color: #008080; font-weight: bold\">18</span>: <span style=\"color: #008000; text-decoration-color: #008000\">\"SHAUNIE\"</span> plays a mix of global house and dark Detroit house music for our murder \n",
              "mystery-themed party at a mansion in New York City. <span style=\"color: #808000; text-decoration-color: #808000\">...</span>\n",
              "</pre>\n"
            ]
          },
          "metadata": {}
        },
        {
          "output_type": "display_data",
          "data": {
            "text/plain": [
              "\u001b[2m[Step 1: Duration 1.94 seconds| Input tokens: 1,060 | Output tokens: 12]\u001b[0m\n"
            ],
            "text/html": [
              "<pre style=\"white-space:pre;overflow-x:auto;line-height:normal;font-family:Menlo,'DejaVu Sans Mono',consolas,'Courier New',monospace\"><span style=\"color: #7f7f7f; text-decoration-color: #7f7f7f\">[Step 1: Duration 1.94 seconds| Input tokens: 1,060 | Output tokens: 12]</span>\n",
              "</pre>\n"
            ]
          },
          "metadata": {}
        },
        {
          "output_type": "display_data",
          "data": {
            "text/plain": [
              "\u001b[38;2;212;183;2m━━━━━━━━━━━━━━━━━━━━━━━━━━━━━━━━━━━━━━━━━━━━━━━━━━━━━ \u001b[0m\u001b[1mStep \u001b[0m\u001b[1;36m2\u001b[0m\u001b[38;2;212;183;2m ━━━━━━━━━━━━━━━━━━━━━━━━━━━━━━━━━━━━━━━━━━━━━━━━━━━━━━\u001b[0m\n"
            ],
            "text/html": [
              "<pre style=\"white-space:pre;overflow-x:auto;line-height:normal;font-family:Menlo,'DejaVu Sans Mono',consolas,'Courier New',monospace\"><span style=\"color: #d4b702; text-decoration-color: #d4b702\">━━━━━━━━━━━━━━━━━━━━━━━━━━━━━━━━━━━━━━━━━━━━━━━━━━━━━ </span><span style=\"font-weight: bold\">Step </span><span style=\"color: #008080; text-decoration-color: #008080; font-weight: bold\">2</span><span style=\"color: #d4b702; text-decoration-color: #d4b702\"> ━━━━━━━━━━━━━━━━━━━━━━━━━━━━━━━━━━━━━━━━━━━━━━━━━━━━━━</span>\n",
              "</pre>\n"
            ]
          },
          "metadata": {}
        },
        {
          "output_type": "display_data",
          "data": {
            "text/plain": [
              "╭─────────────────────────────────────────────────────────────────────────────────────────────────────────────────╮\n",
              "│ Calling tool: 'web_search' with arguments: {'query': 'best music for mansion party 2024'}                       │\n",
              "╰─────────────────────────────────────────────────────────────────────────────────────────────────────────────────╯\n"
            ],
            "text/html": [
              "<pre style=\"white-space:pre;overflow-x:auto;line-height:normal;font-family:Menlo,'DejaVu Sans Mono',consolas,'Courier New',monospace\">╭─────────────────────────────────────────────────────────────────────────────────────────────────────────────────╮\n",
              "│ Calling tool: 'web_search' with arguments: {'query': 'best music for mansion party 2024'}                       │\n",
              "╰─────────────────────────────────────────────────────────────────────────────────────────────────────────────────╯\n",
              "</pre>\n"
            ]
          },
          "metadata": {}
        },
        {
          "output_type": "display_data",
          "data": {
            "text/plain": [
              "Observations: ## Search Results\n",
              "\n",
              "|The Top \u001b[1;36m100\u001b[0m most requested party songs of \u001b[1;36m2024\u001b[0m! - DJ Ian \n",
              "Forest\u001b[1m]\u001b[0m\u001b[1m(\u001b[0m\u001b[4;94mhttps://ianforest.com/blog/the-top-100-most-requested-party-songs-of-2024/\u001b[0m\u001b[4;94m)\u001b[0m\n",
              "Throughout \u001b[1;36m2024\u001b[0m, I played just under \u001b[1;36m1\u001b[0m,\u001b[1;36m800\u001b[0m unique tracks from a library of around \u001b[1;36m55\u001b[0m,\u001b[1;36m000\u001b[0m songs. I DJ'd at \u001b[1;36m75\u001b[0m \n",
              "parties in total, and the song that occupies the position of being THE most-played track of \u001b[1;36m2024\u001b[0m was only played at\n",
              "\u001b[1;36m33\u001b[0m of those parties! From \u001b[1;36m2023\u001b[0m's list, \u001b[1;36m27\u001b[0m tracks do not feature in \u001b[1;36m2024\u001b[0m's list but were still played occasionally.\n",
              "\n",
              "|Top \u001b[1;36m200\u001b[0m Most Requested Songs - DJ Event Planner\u001b[1m]\u001b[0m\u001b[1m(\u001b[0m\u001b[4;94mhttps://djeventplanner.com/mostrequested.htm\u001b[0m\u001b[4;94m)\u001b[0m\n",
              "Based on over \u001b[1;36m2\u001b[0m million requests using the DJ Event Planner song request system, this is a list of the most \n",
              "requested songs of the past year. Sign Up For A Free Trial Click To Hide Me Top \u001b[1;36m200\u001b[0m Decades Special Songs Print \n",
              "Download PDF UK Edition Last Year's List Sign Up For A Free Trial\n",
              "\n",
              "|The \u001b[1;36m50\u001b[0m Best Songs of \u001b[1;36m2024\u001b[0m - slantmagazine.com\u001b[1m]\u001b[0m\u001b[1m(\u001b[0m\u001b[4;94mhttps://www.slantmagazine.com/features/the-50-best-songs-of-2024/\u001b[0m\u001b[4;94m)\u001b[0m\n",
              "Our list encompasses party anthems, multiple diss tracks, and honest reckonings with life's myriad disappointments \n",
              "and hardships. Photo: Terrence O'Connor \u001b[33m...\u001b[0m The Best Music Videos of \u001b[1;36m2024\u001b[0m December \u001b[1;36m12\u001b[0m, \u001b[1;36m2024\u001b[0m. The \u001b[1;36m50\u001b[0m Best Albums of \n",
              "\u001b[1;36m2024\u001b[0m June \u001b[1;36m26\u001b[0m, \u001b[1;36m2024\u001b[0m. The Best Albums of \u001b[1;36m2024\u001b[0m … So Far Slant Staff. \u001b[1;36m3\u001b[0m Comments No \u001b[33m...\u001b[0m\n",
              "\n",
              "|\u001b[1;36m100\u001b[0m Best Party Songs: The Ultimate Party Playlist\u001b[1m]\u001b[0m\u001b[1m(\u001b[0m\u001b[4;94mhttps://audiocaptain.com/best-party-songs/\u001b[0m\u001b[4;94m)\u001b[0m\n",
              "Best Party Songs: The Ultimate Party Playlist. Here's the \u001b[1;36m100\u001b[0m best party songs of all time you can use to create \n",
              "your ultimate party playlist in \u001b[1;36m2025\u001b[0m. \u001b[33m...\u001b[0m Here's our list of the best dance party songs \u001b[1;36m2024\u001b[0m: Bicep-Apricots; \n",
              "Jessie Ware-Soul Control; Some Say-Nea; No Doubt-Griz & Jauz; Head and Heart-Joel Corry/MNEK; Change-TSHA; Rain On \n",
              "Me \u001b[33m...\u001b[0m\n",
              "\n",
              "|Top \u001b[1;36m100\u001b[0m songs of \u001b[1;36m2024\u001b[0m. - meadowparty.com\u001b[1m]\u001b[0m\u001b[1m(\u001b[0m\u001b[4;94mhttps://meadowparty.com/blog/2025/01/03/top-100-songs-of-2024/\u001b[0m\u001b[4;94m)\u001b[0m\n",
              "\u001b[1;36m100\u001b[0m. Jamie xx feat. Honey Dijon - Baddy On The Floor. I'm not a big EDM guy, so I was disappointed with Jamie xx's \n",
              "follow-up to his outstanding debut album In Colour; he went heavy into EDM-land rather than the hybrid, indie-dance\n",
              "sounds from the last record.This was the best track on his latest album, In Waves, which had an incredible array of\n",
              "guest vocalists and musicians but \u001b[33m...\u001b[0m\n",
              "\n",
              "|Staff List: The \u001b[1;36m100\u001b[0m Best Songs of \u001b[1;36m2024\u001b[0m - Billboard\u001b[1m]\u001b[0m\u001b[1m(\u001b[0m\u001b[4;94mhttps://www.billboard.com/lists/best-songs-2024/\u001b[0m\u001b[4;94m)\u001b[0m\n",
              "Best Songs of \u001b[1;36m2024\u001b[0m: The \u001b[1;36m100\u001b[0m best songs of the year. \u001b[33m...\u001b[0m And there was reason to party indeed, as it was later \n",
              "announced that the giddy single was the first from xx's long-awaited second LP In Waves.\n",
              "\n",
              "|\u001b[1;36m51\u001b[0m Best Party Songs Released in \u001b[1;36m2024\u001b[0m\u001b[1m]\u001b[0m\u001b[1m(\u001b[0m\u001b[4;94mhttps://weddingmusicletter.com/p/best-party-songs-2024\u001b[0m\u001b[4;94m)\u001b[0m\n",
              "With inspiration from Billboard charts, Spotify trends, Apple Music's most played, and more, I've curated a \n",
              "definitive list of the best party songs of \u001b[1;36m2024\u001b[0m. Whether you're planning a wedding, throwing a house party, or just\n",
              "updating your personal playlist, these tracks are sure to keep the energy high and the vibes unstoppable.\n",
              "\n",
              "|\u001b[1;36m100\u001b[0m+ New Wedding Songs For \u001b[1;36m2024\u001b[0m To Play At Your \n",
              "Reception\u001b[1m]\u001b[0m\u001b[1m(\u001b[0m\u001b[4;94mhttps://mansiononmainstreet.com/100-new-wedding-songs-for-2024-to-play-at-your-reception/\u001b[0m\u001b[4;94m)\u001b[0m\n",
              "Photo by Unsplash. Your wedding guests will be of different generations: from grandparents to nephews and nieces to\n",
              "friends of your own age. That is why both wedding planning experts and modern couples agree that today's weddings \n",
              "should feature a good mix of new wedding songs \u001b[1m(\u001b[0m\u001b[1;36m40\u001b[0m% of your playlist\u001b[1m)\u001b[0m as well as the classics \u001b[1m(\u001b[0m\u001b[1;36m60\u001b[0m% of your wedding \n",
              "party playlist\u001b[1m)\u001b[0m.\n",
              "\n",
              "|The \u001b[1;36m100\u001b[0m Best Songs of \u001b[1;36m2024\u001b[0m - Paste \n",
              "Magazine\u001b[1m]\u001b[0m\u001b[1m(\u001b[0m\u001b[4;94mhttps://www.pastemagazine.com/music/best-songs/the-100-best-songs-of-2024\u001b[0m\u001b[4;94m)\u001b[0m\n",
              "Last week, we unveiled our \u001b[1;36m100\u001b[0m Best Albums of \u001b[1;36m2024\u001b[0m list, which was topped by the likes of Jessica Pratt, Sturgill \n",
              "Simpson, Waxahatchee, Beyoncé, Fontaines D.C. and numerous other acts we still \u001b[33m...\u001b[0m\n",
              "\n",
              "|‎The \u001b[1;36m100\u001b[0m Best Songs of \u001b[1;36m2024\u001b[0m by Pitchfork - Apple \n",
              "Music\u001b[1m]\u001b[0m\u001b[1m(\u001b[0m\u001b[4;94mhttps://music.apple.com/us/playlist/the-100-best-songs-of-2024/pl.9957c4c4c18042b6938b61f24fae63dc\u001b[0m\u001b[4;94m)\u001b[0m\n",
              "Listen to the The \u001b[1;36m100\u001b[0m Best Songs of \u001b[1;36m2024\u001b[0m playlist by Pitchfork on Apple Music. \u001b[1;36m98\u001b[0m Songs. Duration: \u001b[1;36m7\u001b[0m hours, \u001b[1;36m3\u001b[0m \n",
              "minutes.\n"
            ],
            "text/html": [
              "<pre style=\"white-space:pre;overflow-x:auto;line-height:normal;font-family:Menlo,'DejaVu Sans Mono',consolas,'Courier New',monospace\">Observations: ## Search Results\n",
              "\n",
              "|The Top <span style=\"color: #008080; text-decoration-color: #008080; font-weight: bold\">100</span> most requested party songs of <span style=\"color: #008080; text-decoration-color: #008080; font-weight: bold\">2024</span>! - DJ Ian \n",
              "Forest<span style=\"font-weight: bold\">](</span><span style=\"color: #0000ff; text-decoration-color: #0000ff; text-decoration: underline\">https://ianforest.com/blog/the-top-100-most-requested-party-songs-of-2024/)</span>\n",
              "Throughout <span style=\"color: #008080; text-decoration-color: #008080; font-weight: bold\">2024</span>, I played just under <span style=\"color: #008080; text-decoration-color: #008080; font-weight: bold\">1</span>,<span style=\"color: #008080; text-decoration-color: #008080; font-weight: bold\">800</span> unique tracks from a library of around <span style=\"color: #008080; text-decoration-color: #008080; font-weight: bold\">55</span>,<span style=\"color: #008080; text-decoration-color: #008080; font-weight: bold\">000</span> songs. I DJ'd at <span style=\"color: #008080; text-decoration-color: #008080; font-weight: bold\">75</span> \n",
              "parties in total, and the song that occupies the position of being THE most-played track of <span style=\"color: #008080; text-decoration-color: #008080; font-weight: bold\">2024</span> was only played at\n",
              "<span style=\"color: #008080; text-decoration-color: #008080; font-weight: bold\">33</span> of those parties! From <span style=\"color: #008080; text-decoration-color: #008080; font-weight: bold\">2023</span>'s list, <span style=\"color: #008080; text-decoration-color: #008080; font-weight: bold\">27</span> tracks do not feature in <span style=\"color: #008080; text-decoration-color: #008080; font-weight: bold\">2024</span>'s list but were still played occasionally.\n",
              "\n",
              "|Top <span style=\"color: #008080; text-decoration-color: #008080; font-weight: bold\">200</span> Most Requested Songs - DJ Event Planner<span style=\"font-weight: bold\">](</span><span style=\"color: #0000ff; text-decoration-color: #0000ff; text-decoration: underline\">https://djeventplanner.com/mostrequested.htm)</span>\n",
              "Based on over <span style=\"color: #008080; text-decoration-color: #008080; font-weight: bold\">2</span> million requests using the DJ Event Planner song request system, this is a list of the most \n",
              "requested songs of the past year. Sign Up For A Free Trial Click To Hide Me Top <span style=\"color: #008080; text-decoration-color: #008080; font-weight: bold\">200</span> Decades Special Songs Print \n",
              "Download PDF UK Edition Last Year's List Sign Up For A Free Trial\n",
              "\n",
              "|The <span style=\"color: #008080; text-decoration-color: #008080; font-weight: bold\">50</span> Best Songs of <span style=\"color: #008080; text-decoration-color: #008080; font-weight: bold\">2024</span> - slantmagazine.com<span style=\"font-weight: bold\">](</span><span style=\"color: #0000ff; text-decoration-color: #0000ff; text-decoration: underline\">https://www.slantmagazine.com/features/the-50-best-songs-of-2024/)</span>\n",
              "Our list encompasses party anthems, multiple diss tracks, and honest reckonings with life's myriad disappointments \n",
              "and hardships. Photo: Terrence O'Connor <span style=\"color: #808000; text-decoration-color: #808000\">...</span> The Best Music Videos of <span style=\"color: #008080; text-decoration-color: #008080; font-weight: bold\">2024</span> December <span style=\"color: #008080; text-decoration-color: #008080; font-weight: bold\">12</span>, <span style=\"color: #008080; text-decoration-color: #008080; font-weight: bold\">2024</span>. The <span style=\"color: #008080; text-decoration-color: #008080; font-weight: bold\">50</span> Best Albums of \n",
              "<span style=\"color: #008080; text-decoration-color: #008080; font-weight: bold\">2024</span> June <span style=\"color: #008080; text-decoration-color: #008080; font-weight: bold\">26</span>, <span style=\"color: #008080; text-decoration-color: #008080; font-weight: bold\">2024</span>. The Best Albums of <span style=\"color: #008080; text-decoration-color: #008080; font-weight: bold\">2024</span> … So Far Slant Staff. <span style=\"color: #008080; text-decoration-color: #008080; font-weight: bold\">3</span> Comments No <span style=\"color: #808000; text-decoration-color: #808000\">...</span>\n",
              "\n",
              "|<span style=\"color: #008080; text-decoration-color: #008080; font-weight: bold\">100</span> Best Party Songs: The Ultimate Party Playlist<span style=\"font-weight: bold\">](</span><span style=\"color: #0000ff; text-decoration-color: #0000ff; text-decoration: underline\">https://audiocaptain.com/best-party-songs/)</span>\n",
              "Best Party Songs: The Ultimate Party Playlist. Here's the <span style=\"color: #008080; text-decoration-color: #008080; font-weight: bold\">100</span> best party songs of all time you can use to create \n",
              "your ultimate party playlist in <span style=\"color: #008080; text-decoration-color: #008080; font-weight: bold\">2025</span>. <span style=\"color: #808000; text-decoration-color: #808000\">...</span> Here's our list of the best dance party songs <span style=\"color: #008080; text-decoration-color: #008080; font-weight: bold\">2024</span>: Bicep-Apricots; \n",
              "Jessie Ware-Soul Control; Some Say-Nea; No Doubt-Griz &amp; Jauz; Head and Heart-Joel Corry/MNEK; Change-TSHA; Rain On \n",
              "Me <span style=\"color: #808000; text-decoration-color: #808000\">...</span>\n",
              "\n",
              "|Top <span style=\"color: #008080; text-decoration-color: #008080; font-weight: bold\">100</span> songs of <span style=\"color: #008080; text-decoration-color: #008080; font-weight: bold\">2024</span>. - meadowparty.com<span style=\"font-weight: bold\">](</span><span style=\"color: #0000ff; text-decoration-color: #0000ff; text-decoration: underline\">https://meadowparty.com/blog/2025/01/03/top-100-songs-of-2024/)</span>\n",
              "<span style=\"color: #008080; text-decoration-color: #008080; font-weight: bold\">100</span>. Jamie xx feat. Honey Dijon - Baddy On The Floor. I'm not a big EDM guy, so I was disappointed with Jamie xx's \n",
              "follow-up to his outstanding debut album In Colour; he went heavy into EDM-land rather than the hybrid, indie-dance\n",
              "sounds from the last record.This was the best track on his latest album, In Waves, which had an incredible array of\n",
              "guest vocalists and musicians but <span style=\"color: #808000; text-decoration-color: #808000\">...</span>\n",
              "\n",
              "|Staff List: The <span style=\"color: #008080; text-decoration-color: #008080; font-weight: bold\">100</span> Best Songs of <span style=\"color: #008080; text-decoration-color: #008080; font-weight: bold\">2024</span> - Billboard<span style=\"font-weight: bold\">](</span><span style=\"color: #0000ff; text-decoration-color: #0000ff; text-decoration: underline\">https://www.billboard.com/lists/best-songs-2024/)</span>\n",
              "Best Songs of <span style=\"color: #008080; text-decoration-color: #008080; font-weight: bold\">2024</span>: The <span style=\"color: #008080; text-decoration-color: #008080; font-weight: bold\">100</span> best songs of the year. <span style=\"color: #808000; text-decoration-color: #808000\">...</span> And there was reason to party indeed, as it was later \n",
              "announced that the giddy single was the first from xx's long-awaited second LP In Waves.\n",
              "\n",
              "|<span style=\"color: #008080; text-decoration-color: #008080; font-weight: bold\">51</span> Best Party Songs Released in <span style=\"color: #008080; text-decoration-color: #008080; font-weight: bold\">2024</span><span style=\"font-weight: bold\">](</span><span style=\"color: #0000ff; text-decoration-color: #0000ff; text-decoration: underline\">https://weddingmusicletter.com/p/best-party-songs-2024)</span>\n",
              "With inspiration from Billboard charts, Spotify trends, Apple Music's most played, and more, I've curated a \n",
              "definitive list of the best party songs of <span style=\"color: #008080; text-decoration-color: #008080; font-weight: bold\">2024</span>. Whether you're planning a wedding, throwing a house party, or just\n",
              "updating your personal playlist, these tracks are sure to keep the energy high and the vibes unstoppable.\n",
              "\n",
              "|<span style=\"color: #008080; text-decoration-color: #008080; font-weight: bold\">100</span>+ New Wedding Songs For <span style=\"color: #008080; text-decoration-color: #008080; font-weight: bold\">2024</span> To Play At Your \n",
              "Reception<span style=\"font-weight: bold\">](</span><span style=\"color: #0000ff; text-decoration-color: #0000ff; text-decoration: underline\">https://mansiononmainstreet.com/100-new-wedding-songs-for-2024-to-play-at-your-reception/)</span>\n",
              "Photo by Unsplash. Your wedding guests will be of different generations: from grandparents to nephews and nieces to\n",
              "friends of your own age. That is why both wedding planning experts and modern couples agree that today's weddings \n",
              "should feature a good mix of new wedding songs <span style=\"font-weight: bold\">(</span><span style=\"color: #008080; text-decoration-color: #008080; font-weight: bold\">40</span>% of your playlist<span style=\"font-weight: bold\">)</span> as well as the classics <span style=\"font-weight: bold\">(</span><span style=\"color: #008080; text-decoration-color: #008080; font-weight: bold\">60</span>% of your wedding \n",
              "party playlist<span style=\"font-weight: bold\">)</span>.\n",
              "\n",
              "|The <span style=\"color: #008080; text-decoration-color: #008080; font-weight: bold\">100</span> Best Songs of <span style=\"color: #008080; text-decoration-color: #008080; font-weight: bold\">2024</span> - Paste \n",
              "Magazine<span style=\"font-weight: bold\">](</span><span style=\"color: #0000ff; text-decoration-color: #0000ff; text-decoration: underline\">https://www.pastemagazine.com/music/best-songs/the-100-best-songs-of-2024)</span>\n",
              "Last week, we unveiled our <span style=\"color: #008080; text-decoration-color: #008080; font-weight: bold\">100</span> Best Albums of <span style=\"color: #008080; text-decoration-color: #008080; font-weight: bold\">2024</span> list, which was topped by the likes of Jessica Pratt, Sturgill \n",
              "Simpson, Waxahatchee, Beyoncé, Fontaines D.C. and numerous other acts we still <span style=\"color: #808000; text-decoration-color: #808000\">...</span>\n",
              "\n",
              "|‎The <span style=\"color: #008080; text-decoration-color: #008080; font-weight: bold\">100</span> Best Songs of <span style=\"color: #008080; text-decoration-color: #008080; font-weight: bold\">2024</span> by Pitchfork - Apple \n",
              "Music<span style=\"font-weight: bold\">](</span><span style=\"color: #0000ff; text-decoration-color: #0000ff; text-decoration: underline\">https://music.apple.com/us/playlist/the-100-best-songs-of-2024/pl.9957c4c4c18042b6938b61f24fae63dc)</span>\n",
              "Listen to the The <span style=\"color: #008080; text-decoration-color: #008080; font-weight: bold\">100</span> Best Songs of <span style=\"color: #008080; text-decoration-color: #008080; font-weight: bold\">2024</span> playlist by Pitchfork on Apple Music. <span style=\"color: #008080; text-decoration-color: #008080; font-weight: bold\">98</span> Songs. Duration: <span style=\"color: #008080; text-decoration-color: #008080; font-weight: bold\">7</span> hours, <span style=\"color: #008080; text-decoration-color: #008080; font-weight: bold\">3</span> \n",
              "minutes.\n",
              "</pre>\n"
            ]
          },
          "metadata": {}
        },
        {
          "output_type": "display_data",
          "data": {
            "text/plain": [
              "\u001b[2m[Step 2: Duration 2.54 seconds| Input tokens: 3,411 | Output tokens: 26]\u001b[0m\n"
            ],
            "text/html": [
              "<pre style=\"white-space:pre;overflow-x:auto;line-height:normal;font-family:Menlo,'DejaVu Sans Mono',consolas,'Courier New',monospace\"><span style=\"color: #7f7f7f; text-decoration-color: #7f7f7f\">[Step 2: Duration 2.54 seconds| Input tokens: 3,411 | Output tokens: 26]</span>\n",
              "</pre>\n"
            ]
          },
          "metadata": {}
        },
        {
          "output_type": "display_data",
          "data": {
            "text/plain": [
              "\u001b[38;2;212;183;2m━━━━━━━━━━━━━━━━━━━━━━━━━━━━━━━━━━━━━━━━━━━━━━━━━━━━━ \u001b[0m\u001b[1mStep \u001b[0m\u001b[1;36m3\u001b[0m\u001b[38;2;212;183;2m ━━━━━━━━━━━━━━━━━━━━━━━━━━━━━━━━━━━━━━━━━━━━━━━━━━━━━━\u001b[0m\n"
            ],
            "text/html": [
              "<pre style=\"white-space:pre;overflow-x:auto;line-height:normal;font-family:Menlo,'DejaVu Sans Mono',consolas,'Courier New',monospace\"><span style=\"color: #d4b702; text-decoration-color: #d4b702\">━━━━━━━━━━━━━━━━━━━━━━━━━━━━━━━━━━━━━━━━━━━━━━━━━━━━━ </span><span style=\"font-weight: bold\">Step </span><span style=\"color: #008080; text-decoration-color: #008080; font-weight: bold\">3</span><span style=\"color: #d4b702; text-decoration-color: #d4b702\"> ━━━━━━━━━━━━━━━━━━━━━━━━━━━━━━━━━━━━━━━━━━━━━━━━━━━━━━</span>\n",
              "</pre>\n"
            ]
          },
          "metadata": {}
        },
        {
          "output_type": "display_data",
          "data": {
            "text/plain": [
              "╭─────────────────────────────────────────────────────────────────────────────────────────────────────────────────╮\n",
              "│ Calling tool: 'final_answer' with arguments: {'answer': \"To create the perfect party playlist for Wayne's       │\n",
              "│ mansion, I recommend a mix of genres and eras. Consider these suggestions:\\n\\n*   **Popular Hits:** Start with  │\n",
              "│ current hits from 2024 based on Billboard charts and Spotify trends. Some suggestions include:\\n    *   Songs   │\n",
              "│ from the \"}                                                                                                     │\n",
              "╰─────────────────────────────────────────────────────────────────────────────────────────────────────────────────╯\n"
            ],
            "text/html": [
              "<pre style=\"white-space:pre;overflow-x:auto;line-height:normal;font-family:Menlo,'DejaVu Sans Mono',consolas,'Courier New',monospace\">╭─────────────────────────────────────────────────────────────────────────────────────────────────────────────────╮\n",
              "│ Calling tool: 'final_answer' with arguments: {'answer': \"To create the perfect party playlist for Wayne's       │\n",
              "│ mansion, I recommend a mix of genres and eras. Consider these suggestions:\\n\\n*   **Popular Hits:** Start with  │\n",
              "│ current hits from 2024 based on Billboard charts and Spotify trends. Some suggestions include:\\n    *   Songs   │\n",
              "│ from the \"}                                                                                                     │\n",
              "╰─────────────────────────────────────────────────────────────────────────────────────────────────────────────────╯\n",
              "</pre>\n"
            ]
          },
          "metadata": {}
        },
        {
          "output_type": "display_data",
          "data": {
            "text/plain": [
              "\u001b[1;38;2;212;183;2mFinal answer: To create the perfect party playlist for Wayne's mansion, I recommend a mix of genres and eras. \u001b[0m\n",
              "\u001b[1;38;2;212;183;2mConsider these suggestions:\u001b[0m\n",
              "\n",
              "\u001b[1;38;2;212;183;2m*   **Popular Hits:** Start with current hits from 2024 based on Billboard charts and Spotify trends. Some \u001b[0m\n",
              "\u001b[1;38;2;212;183;2msuggestions include:\u001b[0m\n",
              "\u001b[1;38;2;212;183;2m    *   Songs from the \u001b[0m\n"
            ],
            "text/html": [
              "<pre style=\"white-space:pre;overflow-x:auto;line-height:normal;font-family:Menlo,'DejaVu Sans Mono',consolas,'Courier New',monospace\"><span style=\"color: #d4b702; text-decoration-color: #d4b702; font-weight: bold\">Final answer: To create the perfect party playlist for Wayne's mansion, I recommend a mix of genres and eras. </span>\n",
              "<span style=\"color: #d4b702; text-decoration-color: #d4b702; font-weight: bold\">Consider these suggestions:</span>\n",
              "\n",
              "<span style=\"color: #d4b702; text-decoration-color: #d4b702; font-weight: bold\">*   **Popular Hits:** Start with current hits from 2024 based on Billboard charts and Spotify trends. Some </span>\n",
              "<span style=\"color: #d4b702; text-decoration-color: #d4b702; font-weight: bold\">suggestions include:</span>\n",
              "<span style=\"color: #d4b702; text-decoration-color: #d4b702; font-weight: bold\">    *   Songs from the </span>\n",
              "</pre>\n"
            ]
          },
          "metadata": {}
        },
        {
          "output_type": "display_data",
          "data": {
            "text/plain": [
              "\u001b[2m[Step 3: Duration 15.29 seconds| Input tokens: 7,137 | Output tokens: 92]\u001b[0m\n"
            ],
            "text/html": [
              "<pre style=\"white-space:pre;overflow-x:auto;line-height:normal;font-family:Menlo,'DejaVu Sans Mono',consolas,'Courier New',monospace\"><span style=\"color: #7f7f7f; text-decoration-color: #7f7f7f\">[Step 3: Duration 15.29 seconds| Input tokens: 7,137 | Output tokens: 92]</span>\n",
              "</pre>\n"
            ]
          },
          "metadata": {}
        },
        {
          "output_type": "execute_result",
          "data": {
            "text/plain": [
              "\"To create the perfect party playlist for Wayne's mansion, I recommend a mix of genres and eras. Consider these suggestions:\\n\\n*   **Popular Hits:** Start with current hits from 2024 based on Billboard charts and Spotify trends. Some suggestions include:\\n    *   Songs from the \""
            ],
            "application/vnd.google.colaboratory.intrinsic+json": {
              "type": "string"
            }
          },
          "metadata": {},
          "execution_count": 7
        }
      ],
      "source": [
        "import os\n",
        "from dotenv import load_dotenv\n",
        "from google.colab import userdata\n",
        "load_dotenv()\n",
        "# Replace all calls to HfApiModel\n",
        "llm_model = LiteLLMModel(\n",
        "    model_id=\"gemini/gemini-2.0-flash\", # you can see other model names here: https://cloud.google.com/vertex-ai/generative-ai/docs/learn/models. It is important to prefix the name with \"gemini/\"\n",
        "    api_key=userdata.get(\"GEMINI_API_KEY\"),\n",
        "    max_tokens=8192\n",
        ")\n",
        "\n",
        "agent = ToolCallingAgent(tools=[DuckDuckGoSearchTool()], model=llm_model)\n",
        "\n",
        "agent.run(\"Search for the best music recommendations for a party at the Wayne's mansion.\")"
      ]
    },
    {
      "cell_type": "markdown",
      "metadata": {
        "id": "Cl19VWGRYXrr"
      },
      "source": [
        "\n",
        "When you examine the agent's trace, instead of seeing `Executing parsed code:`, you'll see something like:\n",
        "\n",
        "```text\n",
        "╭─────────────────────────────────────────────────────────────────────────────────────────────────────────────────╮\n",
        "│ Calling tool: 'web_search' with arguments: {'query': \"best music recommendations for a party at Wayne's         │\n",
        "│ mansion\"}                                                                                                       │\n",
        "╰─────────────────────────────────────────────────────────────────────────────────────────────────────────────────╯\n",
        "```  \n",
        "\n",
        "The agent generates a structured tool call that the system processes to produce the output, rather than directly executing code like a `CodeAgent`.\n",
        "\n",
        "Now that we understand both agent types, we can choose the right one for our needs. Let's continue exploring `smolagents` to make Alfred's party a success! 🎉"
      ]
    }
  ],
  "metadata": {
    "colab": {
      "provenance": []
    },
    "kernelspec": {
      "display_name": "Python 3",
      "name": "python3"
    },
    "language_info": {
      "name": "python"
    },
    "widgets": {
      "application/vnd.jupyter.widget-state+json": {
        "bd50426f3855480f8c7f6242a0328b9c": {
          "model_module": "@jupyter-widgets/controls",
          "model_name": "VBoxModel",
          "model_module_version": "1.5.0",
          "state": {
            "_dom_classes": [],
            "_model_module": "@jupyter-widgets/controls",
            "_model_module_version": "1.5.0",
            "_model_name": "VBoxModel",
            "_view_count": null,
            "_view_module": "@jupyter-widgets/controls",
            "_view_module_version": "1.5.0",
            "_view_name": "VBoxView",
            "box_style": "",
            "children": [
              "IPY_MODEL_f6e606ae40524a76b6a09fa97faf464a",
              "IPY_MODEL_a016c4e86bfa4840a44d34a252f12ec3",
              "IPY_MODEL_4f63c02424b041fcbc7fae55ecb155c4",
              "IPY_MODEL_2f105b3c2f25412c93359f62624a1f5c",
              "IPY_MODEL_2717fd45bb54428490a5b8f26b170604"
            ],
            "layout": "IPY_MODEL_b606a943cbf548ec81c12fc70ef0f496"
          }
        },
        "f6e606ae40524a76b6a09fa97faf464a": {
          "model_module": "@jupyter-widgets/controls",
          "model_name": "HTMLModel",
          "model_module_version": "1.5.0",
          "state": {
            "_dom_classes": [],
            "_model_module": "@jupyter-widgets/controls",
            "_model_module_version": "1.5.0",
            "_model_name": "HTMLModel",
            "_view_count": null,
            "_view_module": "@jupyter-widgets/controls",
            "_view_module_version": "1.5.0",
            "_view_name": "HTMLView",
            "description": "",
            "description_tooltip": null,
            "layout": "IPY_MODEL_ae72e736f70b43e48fac6b6b12a02ac4",
            "placeholder": "​",
            "style": "IPY_MODEL_c7efe8efce7a4aa19829341f49eb0be5",
            "value": "<center> <img\nsrc=https://huggingface.co/front/assets/huggingface_logo-noborder.svg\nalt='Hugging Face'> <br> Copy a token from <a\nhref=\"https://huggingface.co/settings/tokens\" target=\"_blank\">your Hugging Face\ntokens page</a> and paste it below. <br> Immediately click login after copying\nyour token or it might be stored in plain text in this notebook file. </center>"
          }
        },
        "a016c4e86bfa4840a44d34a252f12ec3": {
          "model_module": "@jupyter-widgets/controls",
          "model_name": "PasswordModel",
          "model_module_version": "1.5.0",
          "state": {
            "_dom_classes": [],
            "_model_module": "@jupyter-widgets/controls",
            "_model_module_version": "1.5.0",
            "_model_name": "PasswordModel",
            "_view_count": null,
            "_view_module": "@jupyter-widgets/controls",
            "_view_module_version": "1.5.0",
            "_view_name": "PasswordView",
            "continuous_update": true,
            "description": "Token:",
            "description_tooltip": null,
            "disabled": false,
            "layout": "IPY_MODEL_05be179d036e422ab71b8050f43cb0d5",
            "placeholder": "​",
            "style": "IPY_MODEL_2818a84d92c04896adfaedbc708b5c30",
            "value": ""
          }
        },
        "4f63c02424b041fcbc7fae55ecb155c4": {
          "model_module": "@jupyter-widgets/controls",
          "model_name": "CheckboxModel",
          "model_module_version": "1.5.0",
          "state": {
            "_dom_classes": [],
            "_model_module": "@jupyter-widgets/controls",
            "_model_module_version": "1.5.0",
            "_model_name": "CheckboxModel",
            "_view_count": null,
            "_view_module": "@jupyter-widgets/controls",
            "_view_module_version": "1.5.0",
            "_view_name": "CheckboxView",
            "description": "Add token as git credential?",
            "description_tooltip": null,
            "disabled": false,
            "indent": true,
            "layout": "IPY_MODEL_66b5d892583a42dea155fa7174d56d4f",
            "style": "IPY_MODEL_2cc9cae8902b40eeb9455a97228a30b7",
            "value": true
          }
        },
        "2f105b3c2f25412c93359f62624a1f5c": {
          "model_module": "@jupyter-widgets/controls",
          "model_name": "ButtonModel",
          "model_module_version": "1.5.0",
          "state": {
            "_dom_classes": [],
            "_model_module": "@jupyter-widgets/controls",
            "_model_module_version": "1.5.0",
            "_model_name": "ButtonModel",
            "_view_count": null,
            "_view_module": "@jupyter-widgets/controls",
            "_view_module_version": "1.5.0",
            "_view_name": "ButtonView",
            "button_style": "",
            "description": "Login",
            "disabled": false,
            "icon": "",
            "layout": "IPY_MODEL_a7fd583383d946f19f7767823284fcdf",
            "style": "IPY_MODEL_404d27e8c2134ee197af4b3b55004626",
            "tooltip": ""
          }
        },
        "2717fd45bb54428490a5b8f26b170604": {
          "model_module": "@jupyter-widgets/controls",
          "model_name": "HTMLModel",
          "model_module_version": "1.5.0",
          "state": {
            "_dom_classes": [],
            "_model_module": "@jupyter-widgets/controls",
            "_model_module_version": "1.5.0",
            "_model_name": "HTMLModel",
            "_view_count": null,
            "_view_module": "@jupyter-widgets/controls",
            "_view_module_version": "1.5.0",
            "_view_name": "HTMLView",
            "description": "",
            "description_tooltip": null,
            "layout": "IPY_MODEL_6e70b5aa9a584147ad3c0af3d8bd151c",
            "placeholder": "​",
            "style": "IPY_MODEL_32c8626481364fdd955328cf9e7ddddc",
            "value": "\n<b>Pro Tip:</b> If you don't already have one, you can create a dedicated\n'notebooks' token with 'write' access, that you can then easily reuse for all\nnotebooks. </center>"
          }
        },
        "b606a943cbf548ec81c12fc70ef0f496": {
          "model_module": "@jupyter-widgets/base",
          "model_name": "LayoutModel",
          "model_module_version": "1.2.0",
          "state": {
            "_model_module": "@jupyter-widgets/base",
            "_model_module_version": "1.2.0",
            "_model_name": "LayoutModel",
            "_view_count": null,
            "_view_module": "@jupyter-widgets/base",
            "_view_module_version": "1.2.0",
            "_view_name": "LayoutView",
            "align_content": null,
            "align_items": "center",
            "align_self": null,
            "border": null,
            "bottom": null,
            "display": "flex",
            "flex": null,
            "flex_flow": "column",
            "grid_area": null,
            "grid_auto_columns": null,
            "grid_auto_flow": null,
            "grid_auto_rows": null,
            "grid_column": null,
            "grid_gap": null,
            "grid_row": null,
            "grid_template_areas": null,
            "grid_template_columns": null,
            "grid_template_rows": null,
            "height": null,
            "justify_content": null,
            "justify_items": null,
            "left": null,
            "margin": null,
            "max_height": null,
            "max_width": null,
            "min_height": null,
            "min_width": null,
            "object_fit": null,
            "object_position": null,
            "order": null,
            "overflow": null,
            "overflow_x": null,
            "overflow_y": null,
            "padding": null,
            "right": null,
            "top": null,
            "visibility": null,
            "width": "50%"
          }
        },
        "ae72e736f70b43e48fac6b6b12a02ac4": {
          "model_module": "@jupyter-widgets/base",
          "model_name": "LayoutModel",
          "model_module_version": "1.2.0",
          "state": {
            "_model_module": "@jupyter-widgets/base",
            "_model_module_version": "1.2.0",
            "_model_name": "LayoutModel",
            "_view_count": null,
            "_view_module": "@jupyter-widgets/base",
            "_view_module_version": "1.2.0",
            "_view_name": "LayoutView",
            "align_content": null,
            "align_items": null,
            "align_self": null,
            "border": null,
            "bottom": null,
            "display": null,
            "flex": null,
            "flex_flow": null,
            "grid_area": null,
            "grid_auto_columns": null,
            "grid_auto_flow": null,
            "grid_auto_rows": null,
            "grid_column": null,
            "grid_gap": null,
            "grid_row": null,
            "grid_template_areas": null,
            "grid_template_columns": null,
            "grid_template_rows": null,
            "height": null,
            "justify_content": null,
            "justify_items": null,
            "left": null,
            "margin": null,
            "max_height": null,
            "max_width": null,
            "min_height": null,
            "min_width": null,
            "object_fit": null,
            "object_position": null,
            "order": null,
            "overflow": null,
            "overflow_x": null,
            "overflow_y": null,
            "padding": null,
            "right": null,
            "top": null,
            "visibility": null,
            "width": null
          }
        },
        "c7efe8efce7a4aa19829341f49eb0be5": {
          "model_module": "@jupyter-widgets/controls",
          "model_name": "DescriptionStyleModel",
          "model_module_version": "1.5.0",
          "state": {
            "_model_module": "@jupyter-widgets/controls",
            "_model_module_version": "1.5.0",
            "_model_name": "DescriptionStyleModel",
            "_view_count": null,
            "_view_module": "@jupyter-widgets/base",
            "_view_module_version": "1.2.0",
            "_view_name": "StyleView",
            "description_width": ""
          }
        },
        "05be179d036e422ab71b8050f43cb0d5": {
          "model_module": "@jupyter-widgets/base",
          "model_name": "LayoutModel",
          "model_module_version": "1.2.0",
          "state": {
            "_model_module": "@jupyter-widgets/base",
            "_model_module_version": "1.2.0",
            "_model_name": "LayoutModel",
            "_view_count": null,
            "_view_module": "@jupyter-widgets/base",
            "_view_module_version": "1.2.0",
            "_view_name": "LayoutView",
            "align_content": null,
            "align_items": null,
            "align_self": null,
            "border": null,
            "bottom": null,
            "display": null,
            "flex": null,
            "flex_flow": null,
            "grid_area": null,
            "grid_auto_columns": null,
            "grid_auto_flow": null,
            "grid_auto_rows": null,
            "grid_column": null,
            "grid_gap": null,
            "grid_row": null,
            "grid_template_areas": null,
            "grid_template_columns": null,
            "grid_template_rows": null,
            "height": null,
            "justify_content": null,
            "justify_items": null,
            "left": null,
            "margin": null,
            "max_height": null,
            "max_width": null,
            "min_height": null,
            "min_width": null,
            "object_fit": null,
            "object_position": null,
            "order": null,
            "overflow": null,
            "overflow_x": null,
            "overflow_y": null,
            "padding": null,
            "right": null,
            "top": null,
            "visibility": null,
            "width": null
          }
        },
        "2818a84d92c04896adfaedbc708b5c30": {
          "model_module": "@jupyter-widgets/controls",
          "model_name": "DescriptionStyleModel",
          "model_module_version": "1.5.0",
          "state": {
            "_model_module": "@jupyter-widgets/controls",
            "_model_module_version": "1.5.0",
            "_model_name": "DescriptionStyleModel",
            "_view_count": null,
            "_view_module": "@jupyter-widgets/base",
            "_view_module_version": "1.2.0",
            "_view_name": "StyleView",
            "description_width": ""
          }
        },
        "66b5d892583a42dea155fa7174d56d4f": {
          "model_module": "@jupyter-widgets/base",
          "model_name": "LayoutModel",
          "model_module_version": "1.2.0",
          "state": {
            "_model_module": "@jupyter-widgets/base",
            "_model_module_version": "1.2.0",
            "_model_name": "LayoutModel",
            "_view_count": null,
            "_view_module": "@jupyter-widgets/base",
            "_view_module_version": "1.2.0",
            "_view_name": "LayoutView",
            "align_content": null,
            "align_items": null,
            "align_self": null,
            "border": null,
            "bottom": null,
            "display": null,
            "flex": null,
            "flex_flow": null,
            "grid_area": null,
            "grid_auto_columns": null,
            "grid_auto_flow": null,
            "grid_auto_rows": null,
            "grid_column": null,
            "grid_gap": null,
            "grid_row": null,
            "grid_template_areas": null,
            "grid_template_columns": null,
            "grid_template_rows": null,
            "height": null,
            "justify_content": null,
            "justify_items": null,
            "left": null,
            "margin": null,
            "max_height": null,
            "max_width": null,
            "min_height": null,
            "min_width": null,
            "object_fit": null,
            "object_position": null,
            "order": null,
            "overflow": null,
            "overflow_x": null,
            "overflow_y": null,
            "padding": null,
            "right": null,
            "top": null,
            "visibility": null,
            "width": null
          }
        },
        "2cc9cae8902b40eeb9455a97228a30b7": {
          "model_module": "@jupyter-widgets/controls",
          "model_name": "DescriptionStyleModel",
          "model_module_version": "1.5.0",
          "state": {
            "_model_module": "@jupyter-widgets/controls",
            "_model_module_version": "1.5.0",
            "_model_name": "DescriptionStyleModel",
            "_view_count": null,
            "_view_module": "@jupyter-widgets/base",
            "_view_module_version": "1.2.0",
            "_view_name": "StyleView",
            "description_width": ""
          }
        },
        "a7fd583383d946f19f7767823284fcdf": {
          "model_module": "@jupyter-widgets/base",
          "model_name": "LayoutModel",
          "model_module_version": "1.2.0",
          "state": {
            "_model_module": "@jupyter-widgets/base",
            "_model_module_version": "1.2.0",
            "_model_name": "LayoutModel",
            "_view_count": null,
            "_view_module": "@jupyter-widgets/base",
            "_view_module_version": "1.2.0",
            "_view_name": "LayoutView",
            "align_content": null,
            "align_items": null,
            "align_self": null,
            "border": null,
            "bottom": null,
            "display": null,
            "flex": null,
            "flex_flow": null,
            "grid_area": null,
            "grid_auto_columns": null,
            "grid_auto_flow": null,
            "grid_auto_rows": null,
            "grid_column": null,
            "grid_gap": null,
            "grid_row": null,
            "grid_template_areas": null,
            "grid_template_columns": null,
            "grid_template_rows": null,
            "height": null,
            "justify_content": null,
            "justify_items": null,
            "left": null,
            "margin": null,
            "max_height": null,
            "max_width": null,
            "min_height": null,
            "min_width": null,
            "object_fit": null,
            "object_position": null,
            "order": null,
            "overflow": null,
            "overflow_x": null,
            "overflow_y": null,
            "padding": null,
            "right": null,
            "top": null,
            "visibility": null,
            "width": null
          }
        },
        "404d27e8c2134ee197af4b3b55004626": {
          "model_module": "@jupyter-widgets/controls",
          "model_name": "ButtonStyleModel",
          "model_module_version": "1.5.0",
          "state": {
            "_model_module": "@jupyter-widgets/controls",
            "_model_module_version": "1.5.0",
            "_model_name": "ButtonStyleModel",
            "_view_count": null,
            "_view_module": "@jupyter-widgets/base",
            "_view_module_version": "1.2.0",
            "_view_name": "StyleView",
            "button_color": null,
            "font_weight": ""
          }
        },
        "6e70b5aa9a584147ad3c0af3d8bd151c": {
          "model_module": "@jupyter-widgets/base",
          "model_name": "LayoutModel",
          "model_module_version": "1.2.0",
          "state": {
            "_model_module": "@jupyter-widgets/base",
            "_model_module_version": "1.2.0",
            "_model_name": "LayoutModel",
            "_view_count": null,
            "_view_module": "@jupyter-widgets/base",
            "_view_module_version": "1.2.0",
            "_view_name": "LayoutView",
            "align_content": null,
            "align_items": null,
            "align_self": null,
            "border": null,
            "bottom": null,
            "display": null,
            "flex": null,
            "flex_flow": null,
            "grid_area": null,
            "grid_auto_columns": null,
            "grid_auto_flow": null,
            "grid_auto_rows": null,
            "grid_column": null,
            "grid_gap": null,
            "grid_row": null,
            "grid_template_areas": null,
            "grid_template_columns": null,
            "grid_template_rows": null,
            "height": null,
            "justify_content": null,
            "justify_items": null,
            "left": null,
            "margin": null,
            "max_height": null,
            "max_width": null,
            "min_height": null,
            "min_width": null,
            "object_fit": null,
            "object_position": null,
            "order": null,
            "overflow": null,
            "overflow_x": null,
            "overflow_y": null,
            "padding": null,
            "right": null,
            "top": null,
            "visibility": null,
            "width": null
          }
        },
        "32c8626481364fdd955328cf9e7ddddc": {
          "model_module": "@jupyter-widgets/controls",
          "model_name": "DescriptionStyleModel",
          "model_module_version": "1.5.0",
          "state": {
            "_model_module": "@jupyter-widgets/controls",
            "_model_module_version": "1.5.0",
            "_model_name": "DescriptionStyleModel",
            "_view_count": null,
            "_view_module": "@jupyter-widgets/base",
            "_view_module_version": "1.2.0",
            "_view_name": "StyleView",
            "description_width": ""
          }
        }
      }
    }
  },
  "nbformat": 4,
  "nbformat_minor": 0
}